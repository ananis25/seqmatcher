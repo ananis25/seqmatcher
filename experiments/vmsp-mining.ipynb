{
 "cells": [
  {
   "cell_type": "markdown",
   "id": "92c917cf-7c48-44b3-9138-28b063e912b9",
   "metadata": {},
   "source": [
    "VMSP algorithm to get maximal sequence patterns from the NYC/TKY Foursquare dataset. "
   ]
  },
  {
   "cell_type": "markdown",
   "id": "a105ec67-d699-4850-8532-f214b166d490",
   "metadata": {},
   "source": [
    "### regular python"
   ]
  },
  {
   "cell_type": "code",
   "execution_count": 1,
   "id": "5da7366f-d981-4e4d-968f-1b107a2fbede",
   "metadata": {},
   "outputs": [],
   "source": [
    "def match_seq(seq: list[str], pat: list[str]) -> bool:\n",
    "    if len(pat) == 0:\n",
    "        return True\n",
    "    for i in range(len(seq)):\n",
    "        if seq[i] == pat[0]:\n",
    "            return match_seq(seq[i + 1 :], pat[1:])\n",
    "    return False\n",
    "\n",
    "\n",
    "def calc_support(pat: list[str]) -> int:\n",
    "    count = 0\n",
    "    for seq in dataset:\n",
    "        if match_seq(seq, pat):\n",
    "            count += 1\n",
    "    return count"
   ]
  },
  {
   "cell_type": "code",
   "execution_count": 2,
   "id": "eff7d184-fc09-401c-85cf-03f53598a1cf",
   "metadata": {},
   "outputs": [],
   "source": [
    "def enumerate_patterns(min_sup: int):\n",
    "    event_counts = dict()\n",
    "    for seq in dataset:\n",
    "        for evt in seq:\n",
    "            if evt in event_counts:\n",
    "                event_counts[evt] += 1\n",
    "            else:\n",
    "                event_counts[evt] = 1\n",
    "\n",
    "    result: list[list[str]] = []\n",
    "    set_init = set(e for e, c in event_counts.items() if c >= min_sup)\n",
    "    for evt in set_init:\n",
    "        search(result, [evt], set_init, min_sup)\n",
    "\n",
    "    return result\n",
    "\n",
    "\n",
    "def search(result, pat, extend_set, min_sup: int):\n",
    "    result.append(pat)\n",
    "    set_temp: set[str] = set()\n",
    "    for evt in extend_set:\n",
    "        if calc_support([*pat, evt]) >= min_sup:\n",
    "            set_temp.add(evt)\n",
    "\n",
    "    for evt in set_temp:\n",
    "        search(result, [*pat, evt], set_temp, min_sup)"
   ]
  },
  {
   "cell_type": "code",
   "execution_count": 3,
   "id": "da6e6035-59c1-460a-bca2-523a10cbe9d4",
   "metadata": {},
   "outputs": [],
   "source": [
    "dataset = [\n",
    "    [\"a\", \"b\", \"c\", \"d\"],\n",
    "    [\"b\", \"c\", \"d\", \"e\"],\n",
    "    [\"c\", \"d\", \"e\", \"f\"],\n",
    "    [\"d\", \"e\", \"f\", \"g\"],\n",
    "    [\"e\", \"f\", \"g\", \"h\"],\n",
    "]"
   ]
  },
  {
   "cell_type": "code",
   "execution_count": 4,
   "id": "346ac85c-6138-4a75-abbb-0e33372a63f7",
   "metadata": {},
   "outputs": [
    {
     "data": {
      "text/plain": [
       "[['e'], ['e', 'f'], ['f'], ['d'], ['d', 'e'], ['c'], ['c', 'd']]"
      ]
     },
     "execution_count": 4,
     "metadata": {},
     "output_type": "execute_result"
    }
   ],
   "source": [
    "enumerate_patterns(3)"
   ]
  },
  {
   "cell_type": "code",
   "execution_count": 6,
   "id": "ca9b20cf-68c3-4b5b-a95b-89608f4db95c",
   "metadata": {},
   "outputs": [],
   "source": [
    "# make id-lists, and intersection bw id-lists for each pair of events\n",
    "# The new range joines in Duckdb look pretty quick, so we should be using that."
   ]
  },
  {
   "cell_type": "code",
   "execution_count": null,
   "id": "d95ef513-f619-4e65-9cf6-0481eac2317a",
   "metadata": {},
   "outputs": [],
   "source": []
  }
 ],
 "metadata": {
  "kernelspec": {
   "display_name": "Python 3",
   "language": "python",
   "name": "python3"
  },
  "language_info": {
   "codemirror_mode": {
    "name": "ipython",
    "version": 3
   },
   "file_extension": ".py",
   "mimetype": "text/x-python",
   "name": "python",
   "nbconvert_exporter": "python",
   "pygments_lexer": "ipython3",
   "version": "3.9.5"
  }
 },
 "nbformat": 4,
 "nbformat_minor": 5
}
